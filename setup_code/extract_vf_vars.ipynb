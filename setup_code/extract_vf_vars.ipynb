{
 "cells": [
  {
   "cell_type": "code",
   "execution_count": 1,
   "metadata": {},
   "outputs": [],
   "source": [
    "import os\n",
    "import zipfile\n",
    "import pandas as pd\n",
    "from tqdm import tqdm\n",
    "# import warnings\n",
    "# warnings.filterwarnings('ignore')\n",
    "# warnings.simplefilter('ignore')"
   ]
  },
  {
   "cell_type": "code",
   "execution_count": 2,
   "metadata": {},
   "outputs": [],
   "source": [
    "demo_outfile = '../data/demographic.csv'\n",
    "hist_outfile = '../data/vote_history.csv'"
   ]
  },
  {
   "cell_type": "code",
   "execution_count": null,
   "metadata": {
    "scrolled": true
   },
   "outputs": [],
   "source": [
    "demo_flag = True\n",
    "hist_flag = True\n",
    "\n",
    "for subdir, dirs, files in os.walk(\"/Users/matt/StateVoterFiles/\"):\n",
    "    for file in tqdm(files):\n",
    "        if file.endswith(\".zip\"):\n",
    "            archive_name = os.path.join(subdir, file)\n",
    "            \n",
    "            state_abbrv = file[5:7]\n",
    "            print(state_abbrv)\n",
    "                        \n",
    "            with zipfile.ZipFile(archive_name, 'r') as archive:\n",
    "#                 try:\n",
    "                for subfile in archive.namelist():\n",
    "                    if subfile.endswith(\"DEMOGRAPHIC.tab\"):\n",
    "                        demo = pd.read_csv(\n",
    "                            archive.open(subfile),\n",
    "                            sep='\\t',\n",
    "                            usecols = ['LALVOTERID', 'Voters_Age', 'County'],\n",
    "                            chunksize = 10000\n",
    "                        )\n",
    "\n",
    "                        for chunk in demo:\n",
    "                            foo = chunk.copy()\n",
    "                            foo['State'] = state_abbrv\n",
    "                            if demo_flag:\n",
    "                                foo.to_csv(demo_outfile, index = False)\n",
    "                                demo_flag = False\n",
    "                            else:\n",
    "                                foo.to_csv(demo_outfile, mode='a', header=False, index = False)\n",
    "\n",
    "                    elif subfile.endswith(\"VOTEHISTORY.tab\"):\n",
    "                        hist = pd.read_csv(\n",
    "                            archive.open(subfile),\n",
    "                            sep='\\t',\n",
    "                            usecols = ['LALVOTERID', 'General_2020_11_03'],\n",
    "                            chunksize = 10000\n",
    "                        )\n",
    "\n",
    "                        for chunk in hist:\n",
    "                            foo = chunk.copy()\n",
    "                            foo['State'] = state_abbrv\n",
    "                            if hist_flag:\n",
    "                                foo.to_csv(hist_outfile, index = False)\n",
    "                                hist_flag = False\n",
    "                            else:\n",
    "                                foo.to_csv(hist_outfile, mode='a', header=False, index = False)     \n",
    "\n",
    "#                 except:\n",
    "#                     print('FAILURE: ' + file)"
   ]
  },
  {
   "cell_type": "code",
   "execution_count": 34,
   "metadata": {},
   "outputs": [
    {
     "name": "stderr",
     "output_type": "stream",
     "text": [
      "142it [00:51,  2.75it/s]\n"
     ]
    }
   ],
   "source": [
    "# I should have stored each state's files separately from the beginning,\n",
    "# but I didn't think of that until it was too late\n",
    "\n",
    "demo = pd.read_csv('../data/demographic.csv', chunksize = 100000)\n",
    "\n",
    "state_map = {}\n",
    "for chunk in tqdm(demo):\n",
    "    states = chunk['State'].unique()\n",
    "    for state in states:\n",
    "        if state not in state_map:\n",
    "            state_map[state] = '../data/vf_demographic/' + state + '.csv'\n",
    "            chunk[chunk.State == state].to_csv(state_map[state], index = False)\n",
    "        else:\n",
    "            chunk[chunk.State == state].to_csv(state_map[state], mode='a', header=False, index = False)"
   ]
  },
  {
   "cell_type": "code",
   "execution_count": 35,
   "metadata": {
    "scrolled": true
   },
   "outputs": [
    {
     "name": "stderr",
     "output_type": "stream",
     "text": [
      "142it [00:31,  4.52it/s]\n"
     ]
    }
   ],
   "source": [
    "hist = pd.read_csv('../data/vote_history.csv', chunksize = 100000)\n",
    "\n",
    "state_map = {}\n",
    "for chunk in tqdm(hist):\n",
    "    states = chunk['State'].unique()\n",
    "    for state in states:\n",
    "        if state not in state_map:\n",
    "            state_map[state] = '../data/vf_history/' + state + '.csv'\n",
    "            chunk[chunk.State == state].to_csv(state_map[state], index = False)\n",
    "        else:\n",
    "            chunk[chunk.State == state].to_csv(state_map[state], mode='a', header=False, index = False)"
   ]
  },
  {
   "cell_type": "code",
   "execution_count": 36,
   "metadata": {},
   "outputs": [],
   "source": [
    "import os\n",
    "\n",
    "os.remove('../data/demographic.csv')\n",
    "os.remove('../data/vote_history.csv')"
   ]
  }
 ],
 "metadata": {
  "kernelspec": {
   "display_name": "Python 3",
   "language": "python",
   "name": "python3"
  },
  "language_info": {
   "codemirror_mode": {
    "name": "ipython",
    "version": 3
   },
   "file_extension": ".py",
   "mimetype": "text/x-python",
   "name": "python",
   "nbconvert_exporter": "python",
   "pygments_lexer": "ipython3",
   "version": "3.8.5"
  }
 },
 "nbformat": 4,
 "nbformat_minor": 4
}
